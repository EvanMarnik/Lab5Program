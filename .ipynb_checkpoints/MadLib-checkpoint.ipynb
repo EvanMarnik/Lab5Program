{
 "cells": [
  {
   "cell_type": "code",
   "execution_count": 2,
   "metadata": {},
   "outputs": [
    {
     "name": "stdout",
     "output_type": "stream",
     "text": [
      "Here's a mad-lib that is totally not sponsored by Tide\n"
     ]
    },
    {
     "name": "stdin",
     "output_type": "stream",
     "text": [
      "Enter you name:  Bob\n",
      "Enter a direction (up,down, etc.):  sideways\n",
      "Enter you favorite color:  violet\n",
      "What's your favorite article of clothing?  knee pads\n",
      "Enter your favorite food:  glizzys\n",
      "What's your least favorite food?  borger\n",
      "Enter a verb ending in '-ing':  jumping\n",
      "What is the worst smell imaginable?  poopoo\n",
      "Go ahead and enter an adjective now:  gross\n",
      "Enter another adjective please:  disgusting\n",
      "Yep, one more adjective please:  blep\n",
      "Please enter the name of a country:  Malta\n",
      "Please enter a plural noun:  pods\n",
      "If you could have any pet, what would it be? snake\n",
      "What is your favorite sound effect? Enter below:  GROWL\n",
      "Please enter a number:  66665343\n",
      "Ok last one, go ahead and enter a body part:  back\n"
     ]
    },
    {
     "name": "stdout",
     "output_type": "stream",
     "text": [
      "\n",
      "\n",
      "\n",
      "Here we go......\n",
      "\n",
      "Dear Bob,\n",
      "Are you sick and tired of looking sideways to see your favorite\n",
      "violet knee pads ruined by a pesky glizzys stain... FOREVER!?!?\n",
      "Have you been jumping yourself to sleep every night because\n",
      "the only knee pads you own smells like poopoo?\n",
      "Well you no longer have to fret about keeping your\n",
      "knee pads gross because Tide pods can take care of even the\n",
      "most disgusting fabric disasters. Want to partake in the annual borger fight\n",
      "in Malta? Have at it! Tide pods will help clean up the aftermath.\n",
      "Theyre so easy even your snake could do it! Simply toss one in the laundry, and\n",
      "*GROWL* instant clean! For only $66665343 you can purchase\n",
      "a pack of 66665343 Tide pods so dont worry about not eating for the next 66665343 days.\n",
      "So if you want to be the next Indiana Jones go have an adventure beause we got your back.\n",
      "If its got to be blep, its got to be Tide!\n"
     ]
    }
   ],
   "source": [
    "print(\"Here's a mad-lib that is totally not sponsored by Tide\")\n",
    "name = input(\"Enter you name: \")\n",
    "direction = input(\"Enter a direction (up,down, etc.): \")\n",
    "color = input(\"Enter you favorite color: \")\n",
    "clothing = input(\"What's your favorite article of clothing? \")\n",
    "food1 = input(\"Enter your favorite food: \")\n",
    "food2 = input(\"What's your least favorite food? \")\n",
    "verb1 = input(\"Enter a verb ending in '-ing': \")\n",
    "smell = input(\"What is the worst smell imaginable? \")\n",
    "adjective1 = input(\"Go ahead and enter an adjective now: \")\n",
    "adjective2 = input(\"Enter another adjective please: \")\n",
    "adjective3 = input(\"Yep, one more adjective please: \")\n",
    "country = input(\"Please enter the name of a country: \")\n",
    "noun = input(\"Please enter a plural noun: \")\n",
    "pet = input(\"If you could have any pet, what would it be?\")\n",
    "sound = input(\"What is your favorite sound effect? Enter below: \")\n",
    "number = input(\"Please enter a number: \")\n",
    "body = input(\"Ok last one, go ahead and enter a body part: \")\n",
    "print()\n",
    "print()\n",
    "print()\n",
    "print(\"Here we go......\")\n",
    "print()\n",
    "\n",
    "print(\"Dear \" + name + \",\\n\" + \"Are you sick and tired of looking \" + direction\n",
    "      + \" to see your favorite\\n\" + color + \" \" + clothing + \" ruined by a pesky \"\n",
    "      + food1 + \" stain... FOREVER!?!?\\n\" + \"Have you been \" + verb1 + \" yourself to sleep every night because\\n\" + \"the only \" + clothing + \" you own smells like \" + smell + \"?\\n\" + \"Well you no longer have to fret about keeping your\\n\" + clothing + \" \" + adjective1 + \" because Tide \" + noun + \" can take care of even the\\n\" + \"most \" + adjective2 + \" fabric disasters. Want to partake in the annual \" + food2 + \" fight\\n\" + \"in \" + country + \"? Have at it! Tide \" + noun + \" will help clean up the aftermath.\\n\" + \"Theyre so easy even your \" + pet + \" could do it! Simply toss one in the laundry, and\\n\" + \"*\" + sound + \"*\" + \" instant clean! For only $\" + number + \" you can purchase\\n\" + \"a pack of \" + number + \" Tide \" + noun + \" so dont worry about not eating for the next \" + number + \" days.\\n\" + \"So if you want to be the next Indiana Jones go have an adventure beause we got your \" + body + \".\\n\" + \"If its got to be \" + adjective3 + \", its got to be Tide!\")"
   ]
  },
  {
   "cell_type": "code",
   "execution_count": null,
   "metadata": {},
   "outputs": [],
   "source": []
  }
 ],
 "metadata": {
  "kernelspec": {
   "display_name": "Python 3",
   "language": "python",
   "name": "python3"
  },
  "language_info": {
   "codemirror_mode": {
    "name": "ipython",
    "version": 3
   },
   "file_extension": ".py",
   "mimetype": "text/x-python",
   "name": "python",
   "nbconvert_exporter": "python",
   "pygments_lexer": "ipython3",
   "version": "3.8.5"
  }
 },
 "nbformat": 4,
 "nbformat_minor": 4
}
