{
 "cells": [
  {
   "cell_type": "code",
   "execution_count": 14,
   "metadata": {},
   "outputs": [
    {
     "name": "stdout",
     "output_type": "stream",
     "text": [
      "Here's a mad-lib that is totally not sponsored by Tide\n"
     ]
    },
    {
     "name": "stdin",
     "output_type": "stream",
     "text": [
      "Enter your name:  \n",
      "Enter a direction (up,down, etc.):  \n",
      "Enter you favorite color:  \n",
      "What's your favorite article of clothing?  \n",
      "Enter your favorite food:  \n",
      "Now, what's your least favorite food?  \n",
      "Enter a verb ending in '-ing':  \n",
      "What is the worst smell imaginable?  \n",
      "Go ahead and enter an adjective now:  \n",
      "Enter another adjective please:  \n",
      "Yep, one more adjective please:  \n",
      "Please enter the name of a country:  \n",
      "Please enter a plural noun:  \n",
      "If you could have any pet, what would it be? \n",
      "What is your favorite sound effect? Enter below:  \n",
      "Please enter a number:  \n",
      "Please enter another number:  \n",
      "Enter even another number:  \n",
      "Ok last one, go ahead and enter a body part:  \n"
     ]
    },
    {
     "name": "stdout",
     "output_type": "stream",
     "text": [
      "\n",
      "\n",
      "Here we go......\n",
      "\n",
      "\n",
      "Dear ,\n",
      "Are you sick and tired of looking  to see your favorite\n",
      "  ruined by a pesky  stain... FOREVER!?!?\n",
      "Have you been  yourself to sleep every night because\n",
      "the only  you own smells like ?\n",
      "Well you no longer have to fret about keeping your\n",
      "  because Tide  can take care of even the\n",
      "most  fabric disasters. Want to partake in the annual  fight\n",
      "in ? Have at it! Tide  will help clean up the aftermath.\n",
      "Theyre so easy even your  could do it! Simply toss one in the laundry, and\n",
      "** instant clean! For only $ you can purchase\n",
      "a pack of  Tide  so dont worry about not eating for the next  days.\n",
      "So if you want to be the next Indiana Jones, go have an adventure beause we got your .\n",
      "If it's got to be , it's got to be Tide!\n"
     ]
    },
    {
     "name": "stdin",
     "output_type": "stream",
     "text": [
      "Great Story! Want to go again? (y/n) y\n"
     ]
    },
    {
     "name": "stdout",
     "output_type": "stream",
     "text": [
      "\n"
     ]
    },
    {
     "name": "stdin",
     "output_type": "stream",
     "text": [
      "Enter your name:  \n",
      "Enter a direction (up,down, etc.):  \n",
      "Enter you favorite color:  \n",
      "What's your favorite article of clothing?  \n",
      "Enter your favorite food:  \n",
      "Now, what's your least favorite food?  \n",
      "Enter a verb ending in '-ing':  \n",
      "What is the worst smell imaginable?  \n",
      "Go ahead and enter an adjective now:  \n",
      "Enter another adjective please:  \n",
      "Yep, one more adjective please:  \n",
      "Please enter the name of a country:  \n",
      "Please enter a plural noun:  \n",
      "If you could have any pet, what would it be? \n",
      "What is your favorite sound effect? Enter below:  \n",
      "Please enter a number:  \n",
      "Please enter another number:  \n",
      "Enter even another number:  \n",
      "Ok last one, go ahead and enter a body part:  \n"
     ]
    },
    {
     "name": "stdout",
     "output_type": "stream",
     "text": [
      "\n",
      "\n",
      "Here we go......\n",
      "\n",
      "\n",
      "Dear ,\n",
      "Are you sick and tired of looking  to see your favorite\n",
      "  ruined by a pesky  stain... FOREVER!?!?\n",
      "Have you been  yourself to sleep every night because\n",
      "the only  you own smells like ?\n",
      "Well you no longer have to fret about keeping your\n",
      "  because Tide  can take care of even the\n",
      "most  fabric disasters. Want to partake in the annual  fight\n",
      "in ? Have at it! Tide  will help clean up the aftermath.\n",
      "Theyre so easy even your  could do it! Simply toss one in the laundry, and\n",
      "** instant clean! For only $ you can purchase\n",
      "a pack of  Tide  so dont worry about not eating for the next  days.\n",
      "So if you want to be the next Indiana Jones, go have an adventure beause we got your .\n",
      "If it's got to be , it's got to be Tide!\n"
     ]
    },
    {
     "name": "stdin",
     "output_type": "stream",
     "text": [
      "Great Story! Want to go again? (y/n) \n"
     ]
    },
    {
     "name": "stdout",
     "output_type": "stream",
     "text": [
      "\n",
      "Thanks for writing!\n"
     ]
    }
   ],
   "source": [
    "print(\"Here's a mad-lib that is totally not sponsored by Tide\") \n",
    "while(True):     \n",
    "    name = input(\"Enter your name: \")     \n",
    "    direction = input(\"Enter a direction (up,down, etc.): \")    \n",
    "    color = input(\"Enter you favorite color: \")    \n",
    "    clothing = input(\"What's your favorite article of clothing? \")   \n",
    "    food1 = input(\"Enter your favorite food: \")    \n",
    "    food2 = input(\"Now, what's your least favorite food? \")   \n",
    "    verb1 = input(\"Enter a verb ending in '-ing': \")    \n",
    "    smell = input(\"What is the worst smell imaginable? \")    \n",
    "    adjective1 = input(\"Go ahead and enter an adjective now: \")   \n",
    "    adjective2 = input(\"Enter another adjective please: \")  \n",
    "    adjective3 = input(\"Yep, one more adjective please: \")   \n",
    "    country = input(\"Please enter the name of a country: \")    \n",
    "    noun = input(\"Please enter a plural noun: \")     \n",
    "    pet = input(\"If you could have any pet, what would it be?\")   \n",
    "    sound = input(\"What is your favorite sound effect? Enter below: \")  \n",
    "    number = input(\"Please enter a number: \")     \n",
    "    number2 = input(\"Please enter another number: \")  \n",
    "    number3 = input(\"Enter even another number: \")    \n",
    "    body = input(\"Ok last one, go ahead and enter a body part: \")     \n",
    "    print()    \n",
    "    print()  \n",
    "    print(\"Here we go......\")    \n",
    "    print()   \n",
    "    print()    \n",
    "    print(\"Dear \" + name + \",\\n\" + \"Are you sick and tired of looking \" + direction    \n",
    "          + \" to see your favorite\\n\" + color + \" \" + clothing + \" ruined by a pesky \"   \n",
    "          + food1 + \" stain... FOREVER!?!?\\n\" + \"Have you been \" + verb1 + \" yourself to sleep every night because\\n\" +     \n",
    "          \"the only \" + clothing + \" you own smells like \" + smell + \"?\\n\" +   \n",
    "          \"Well you no longer have to fret about keeping your\\n\" + clothing + \" \"      \n",
    "          + adjective1 + \" because Tide \" + noun + \" can take care of even the\\n\" + \"most \" + adjective2 +    \n",
    "          \" fabric disasters. Want to partake in the annual \" + food2 + \" fight\\n\" + \"in \" + country + \"? Have at it! Tide \"    \n",
    "          + noun + \" will help clean up the aftermath.\\n\" + \"Theyre so easy even your \" + pet + \" could do it! Simply toss one in the laundry, and\\n\" + \"*\" \n",
    "          + sound + \"*\" + \" instant clean! For only $\" + number + \" you can purchase\\n\" + \"a pack of \" + number2 + \" Tide \" + noun   \n",
    "          + \" so dont worry about not eating for the next \" + number3 + \" days.\\n\"      \n",
    "          + \"So if you want to be the next Indiana Jones, go have an adventure beause we got your \"     \n",
    "          + body + \".\\n\" + \"If it's got to be \" + adjective3 + \", it's got to be Tide!\")     \n",
    "    again = input(\"Great Story! Want to go again? (y/n)\")     \n",
    "    print()     \n",
    "    if(again!=\"y\"):         \n",
    "        break \n",
    "print(\"Thanks for writing!\")"
   ]
  },
  {
   "cell_type": "code",
   "execution_count": null,
   "metadata": {},
   "outputs": [],
   "source": []
  }
 ],
 "metadata": {
  "kernelspec": {
   "display_name": "Python 3",
   "language": "python",
   "name": "python3"
  },
  "language_info": {
   "codemirror_mode": {
    "name": "ipython",
    "version": 3
   },
   "file_extension": ".py",
   "mimetype": "text/x-python",
   "name": "python",
   "nbconvert_exporter": "python",
   "pygments_lexer": "ipython3",
   "version": "3.7.7"
  }
 },
 "nbformat": 4,
 "nbformat_minor": 4
}
